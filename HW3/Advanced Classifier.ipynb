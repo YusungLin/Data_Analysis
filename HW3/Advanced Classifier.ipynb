{
 "cells": [
  {
   "cell_type": "code",
   "execution_count": 1,
   "metadata": {},
   "outputs": [
    {
     "data": {
      "text/html": [
       "<div>\n",
       "<style scoped>\n",
       "    .dataframe tbody tr th:only-of-type {\n",
       "        vertical-align: middle;\n",
       "    }\n",
       "\n",
       "    .dataframe tbody tr th {\n",
       "        vertical-align: top;\n",
       "    }\n",
       "\n",
       "    .dataframe thead th {\n",
       "        text-align: right;\n",
       "    }\n",
       "</style>\n",
       "<table border=\"1\" class=\"dataframe\">\n",
       "  <thead>\n",
       "    <tr style=\"text-align: right;\">\n",
       "      <th></th>\n",
       "      <th>Date</th>\n",
       "      <th>Open Price</th>\n",
       "      <th>Close Price</th>\n",
       "      <th>High Price</th>\n",
       "      <th>Low Price</th>\n",
       "      <th>Volume</th>\n",
       "    </tr>\n",
       "  </thead>\n",
       "  <tbody>\n",
       "    <tr>\n",
       "      <th>0</th>\n",
       "      <td>02-Jan-2009</td>\n",
       "      <td>902.99</td>\n",
       "      <td>931.80</td>\n",
       "      <td>934.73</td>\n",
       "      <td>899.35</td>\n",
       "      <td>4048270080</td>\n",
       "    </tr>\n",
       "    <tr>\n",
       "      <th>1</th>\n",
       "      <td>05-Jan-2009</td>\n",
       "      <td>929.17</td>\n",
       "      <td>927.45</td>\n",
       "      <td>936.63</td>\n",
       "      <td>919.53</td>\n",
       "      <td>5413910016</td>\n",
       "    </tr>\n",
       "    <tr>\n",
       "      <th>2</th>\n",
       "      <td>06-Jan-2009</td>\n",
       "      <td>931.17</td>\n",
       "      <td>934.70</td>\n",
       "      <td>943.85</td>\n",
       "      <td>927.28</td>\n",
       "      <td>5392620032</td>\n",
       "    </tr>\n",
       "  </tbody>\n",
       "</table>\n",
       "</div>"
      ],
      "text/plain": [
       "          Date  Open Price  Close Price  High Price  Low Price      Volume\n",
       "0  02-Jan-2009      902.99       931.80      934.73     899.35  4048270080\n",
       "1  05-Jan-2009      929.17       927.45      936.63     919.53  5413910016\n",
       "2  06-Jan-2009      931.17       934.70      943.85     927.28  5392620032"
      ]
     },
     "execution_count": 1,
     "metadata": {},
     "output_type": "execute_result"
    }
   ],
   "source": [
    "import numpy as np\n",
    "import pandas as pd\n",
    "import matplotlib.pyplot as plt\n",
    "import seaborn as sns\n",
    "\n",
    "train_data = pd.read_csv('Train_Data.csv')\n",
    "test_data = pd.read_csv('Test_Data.csv')\n",
    "train_data.head(3)"
   ]
  },
  {
   "cell_type": "markdown",
   "metadata": {},
   "source": [
    "# Data Preprocessing\n",
    "- New Features Created:\n",
    "    - High Diff\n",
    "        - The difference of the high prices between this time and the last time.\n",
    "    - Low Diff\n",
    "        - The difference of the low prices between this time and the last time.\n",
    "    - Close Diff\n",
    "        - The difference of the close prices between this time and the last time.\n",
    "    - Up_Down Range\n",
    "        - The range of the price it rise and fall in this day.\n",
    "- Set answers we want\n",
    "    - Rise\n",
    "        - Depending on whether it rises as the next day announced.\n",
    "- Normalize the Prices\n",
    "- Trim the first and the last tuple\n",
    "    Since we create new feature and our answer with neighbors of each tuple (or row), data of the first and the last one will be incomplete"
   ]
  },
  {
   "cell_type": "code",
   "execution_count": 2,
   "metadata": {},
   "outputs": [
    {
     "data": {
      "text/html": [
       "<div>\n",
       "<style scoped>\n",
       "    .dataframe tbody tr th:only-of-type {\n",
       "        vertical-align: middle;\n",
       "    }\n",
       "\n",
       "    .dataframe tbody tr th {\n",
       "        vertical-align: top;\n",
       "    }\n",
       "\n",
       "    .dataframe thead th {\n",
       "        text-align: right;\n",
       "    }\n",
       "</style>\n",
       "<table border=\"1\" class=\"dataframe\">\n",
       "  <thead>\n",
       "    <tr style=\"text-align: right;\">\n",
       "      <th></th>\n",
       "      <th>Open Price</th>\n",
       "      <th>Close Price</th>\n",
       "      <th>High Price</th>\n",
       "      <th>Low Price</th>\n",
       "      <th>Volume</th>\n",
       "      <th>High Diff</th>\n",
       "      <th>Low Diff</th>\n",
       "      <th>Close Diff</th>\n",
       "      <th>Up_Down Range</th>\n",
       "    </tr>\n",
       "  </thead>\n",
       "  <tbody>\n",
       "    <tr>\n",
       "      <th>1</th>\n",
       "      <td>0.561045</td>\n",
       "      <td>0.559795</td>\n",
       "      <td>0.562734</td>\n",
       "      <td>0.558162</td>\n",
       "      <td>1.835998</td>\n",
       "      <td>1.90</td>\n",
       "      <td>20.18</td>\n",
       "      <td>-4.35</td>\n",
       "      <td>17.10</td>\n",
       "    </tr>\n",
       "    <tr>\n",
       "      <th>2</th>\n",
       "      <td>0.562252</td>\n",
       "      <td>0.564171</td>\n",
       "      <td>0.567072</td>\n",
       "      <td>0.562866</td>\n",
       "      <td>1.828778</td>\n",
       "      <td>7.22</td>\n",
       "      <td>7.75</td>\n",
       "      <td>7.25</td>\n",
       "      <td>16.57</td>\n",
       "    </tr>\n",
       "    <tr>\n",
       "      <th>3</th>\n",
       "      <td>0.560006</td>\n",
       "      <td>0.547240</td>\n",
       "      <td>0.557219</td>\n",
       "      <td>0.547746</td>\n",
       "      <td>1.595568</td>\n",
       "      <td>-16.40</td>\n",
       "      <td>-24.91</td>\n",
       "      <td>-28.05</td>\n",
       "      <td>25.08</td>\n",
       "    </tr>\n",
       "    <tr>\n",
       "      <th>4</th>\n",
       "      <td>0.546891</td>\n",
       "      <td>0.549099</td>\n",
       "      <td>0.546735</td>\n",
       "      <td>0.544371</td>\n",
       "      <td>1.692765</td>\n",
       "      <td>-17.45</td>\n",
       "      <td>-5.56</td>\n",
       "      <td>3.08</td>\n",
       "      <td>13.19</td>\n",
       "    </tr>\n",
       "    <tr>\n",
       "      <th>5</th>\n",
       "      <td>0.549415</td>\n",
       "      <td>0.537402</td>\n",
       "      <td>0.547894</td>\n",
       "      <td>0.539211</td>\n",
       "      <td>1.599488</td>\n",
       "      <td>1.93</td>\n",
       "      <td>-8.50</td>\n",
       "      <td>-19.38</td>\n",
       "      <td>23.62</td>\n",
       "    </tr>\n",
       "  </tbody>\n",
       "</table>\n",
       "</div>"
      ],
      "text/plain": [
       "   Open Price  Close Price  High Price  Low Price    Volume  High Diff  \\\n",
       "1    0.561045     0.559795    0.562734   0.558162  1.835998       1.90   \n",
       "2    0.562252     0.564171    0.567072   0.562866  1.828778       7.22   \n",
       "3    0.560006     0.547240    0.557219   0.547746  1.595568     -16.40   \n",
       "4    0.546891     0.549099    0.546735   0.544371  1.692765     -17.45   \n",
       "5    0.549415     0.537402    0.547894   0.539211  1.599488       1.93   \n",
       "\n",
       "   Low Diff  Close Diff  Up_Down Range  \n",
       "1     20.18       -4.35          17.10  \n",
       "2      7.75        7.25          16.57  \n",
       "3    -24.91      -28.05          25.08  \n",
       "4     -5.56        3.08          13.19  \n",
       "5     -8.50      -19.38          23.62  "
      ]
     },
     "execution_count": 2,
     "metadata": {},
     "output_type": "execute_result"
    }
   ],
   "source": [
    "for data_set in [train_data, test_data]:\n",
    "    # Create new features\n",
    "    for i in range(1, data_set.shape[0]):\n",
    "        data_set.loc[i, 'High Diff'] = data_set.loc[i, 'High Price'] - data_set.loc[i-1, 'High Price']\n",
    "        data_set.loc[i, 'Low Diff'] = data_set.loc[i, 'Low Price'] - data_set.loc[i-1, 'Low Price']\n",
    "        data_set.loc[i, 'Close Diff'] = data_set.loc[i, 'Close Price'] - data_set.loc[i-1, 'Close Price']\n",
    "    data_set['Up_Down Range'] = (data_set['High Price'] - data_set['Low Price'])\n",
    "\n",
    "    # Set answers\n",
    "    for i in range(data_set.shape[0]-1):\n",
    "        data_set.loc[i, 'Rise'] = 1 if data_set.loc[i+1, 'Close Diff'] > 0 else 0\n",
    "        \n",
    "    # Normalize prices and Volume\n",
    "    for price in ['Open Price', 'Close Price', 'High Price', 'Low Price', 'Volume']:\n",
    "        mean = np.average(data_set[price])\n",
    "        data_set[price] /= mean\n",
    "    \n",
    "# split and categorize the data set\n",
    "x_train = train_data.drop(index=[0, train_data.shape[0]-1], columns=['Date', 'Rise'])\n",
    "y_train = train_data.drop(index=[0, train_data.shape[0]-1])['Rise']\n",
    "x_test = test_data.drop(index=[0, test_data.shape[0]-1], columns=['Date', 'Rise'])\n",
    "y_test = test_data.drop(index=[0, test_data.shape[0]-1])['Rise']\n",
    "x_train.head()"
   ]
  },
  {
   "cell_type": "code",
   "execution_count": 3,
   "metadata": {},
   "outputs": [
    {
     "data": {
      "text/plain": [
       "<matplotlib.axes._subplots.AxesSubplot at 0x7fdb0b393748>"
      ]
     },
     "execution_count": 3,
     "metadata": {},
     "output_type": "execute_result"
    },
    {
     "data": {
      "image/png": "[encoded data removed]",
      "text/plain": [
       "<Figure size 432x288 with 2 Axes>"
      ]
     },
     "metadata": {
      "needs_background": "light"
     },
     "output_type": "display_data"
    }
   ],
   "source": [
    "corr = x_train.corr()\n",
    "plt.title('correlation coefficiences among the features')\n",
    "sns.heatmap(corr, annot=True, cmap='RdPu_r')"
   ]
  },
  {
   "cell_type": "markdown",
   "metadata": {},
   "source": [
    "## Logistic Regression"
   ]
  },
  {
   "cell_type": "code",
   "execution_count": null,
   "metadata": {},
   "outputs": [
    {
     "name": "stdout",
     "output_type": "stream",
     "text": [
      "Train accuracy: 0.550839964633\n",
      "Test accuracy: 0.528\n"
     ]
    }
   ],
   "source": [
    "from sklearn.linear_model import LogisticRegression\n",
    "from sklearn import linear_model, metrics, model_selection\n",
    "\n",
    "clf = LogisticRegression().fit(x_train, y_train)\n",
    "\n",
    "train_result = clf.predict(x_train)\n",
    "test_result = clf.predict(x_test)\n",
    "accuracy_train = metrics.accuracy_score(y_train, train_result)\n",
    "accuracy_test = metrics.accuracy_score(y_test, test_result)\n",
    "print('Train accuracy: %s' % accuracy_train)\n",
    "print('Test accuracy: %s' % accuracy_test)"
   ]
  },
  {
   "cell_type": "markdown",
   "metadata": {},
   "source": [
    "## SVM"
   ]
  },
  {
   "cell_type": "code",
   "execution_count": null,
   "metadata": {},
   "outputs": [
    {
     "name": "stdout",
     "output_type": "stream",
     "text": [
      "Kernel = linear\n",
      "\tPenalty = 0.05, Accuracy = 52.00 %\n"
     ]
    }
   ],
   "source": [
    "from sklearn.svm import SVC\n",
    "\n",
    "penalties = [0.05, 1, 10]\n",
    "\n",
    "for kernel in ['linear', 'rbf', 'sigmoid']:\n",
    "    print(\"Kernel = \" + kernel)\n",
    "    for penalty in penalties:\n",
    "        svm = SVC(C=penalty, kernel=kernel, probability=True)\n",
    "        svm.fit(x_train, y_train)\n",
    "\n",
    "        accuracy = metrics.accuracy_score(y_test, svm.predict(x_test)) * 100\n",
    "        print(\"\\tPenalty = %.2f, Accuracy = %.2f %%\" % (penalty, accuracy))\n",
    "    print(\"\")"
   ]
  },
  {
   "cell_type": "markdown",
   "metadata": {},
   "source": [
    "## Neural Network"
   ]
  },
  {
   "cell_type": "code",
   "execution_count": null,
   "metadata": {},
   "outputs": [],
   "source": [
    "from keras import models, layers, optimizers, regularizers\n",
    "\n",
    "# parameters used in the NN model 1\n",
    "hidden_units = 10\n",
    "l2 = 0.001           # regularization - how much we penalize large parameter values\n",
    "learning_rate = 0.1  # how big our steps are in gradient descent\n",
    "epochs = 5          # how many epochs to train for\n",
    "batch_size = 32      # how many samples to use for each gradient descent updat"
   ]
  },
  {
   "cell_type": "code",
   "execution_count": null,
   "metadata": {},
   "outputs": [],
   "source": [
    "# NN model 1\n",
    "model = models.Sequential()\n",
    "\n",
    "# building two layers\n",
    "model.add(layers.Dense(input_dim=9, units=hidden_units, activation=None))\n",
    "model.add(layers.Dense(input_dim=hidden_units, units=1, activation='sigmoid'))\n",
    "\n",
    "model.compile(loss='binary_crossentropy', optimizer=optimizers.Adam(lr=learning_rate), metrics=['accuracy'])\n",
    "\n",
    "model.fit(x_train, y_train, epochs=epochs, batch_size=batch_size)\n",
    "\n",
    "accuracy_train = model.evaluate(x_train, y_train, batch_size=batch_size)[1]\n",
    "accuracy_test = model.evaluate(x_test, y_test, batch_size=batch_size)[1]\n",
    "print('Training accuracy: %s' % accuracy_train)\n",
    "print('Testing accuracy: %s' % accuracy_test)"
   ]
  },
  {
   "cell_type": "code",
   "execution_count": null,
   "metadata": {},
   "outputs": [],
   "source": [
    "# parameters used in the NN model 2\n",
    "hidden_units = 15\n",
    "epochs = 10\n",
    "batch_size = 32"
   ]
  },
  {
   "cell_type": "code",
   "execution_count": null,
   "metadata": {},
   "outputs": [],
   "source": [
    "# NN model 2\n",
    "model = models.Sequential()\n",
    "\n",
    "# building six layers\n",
    "model.add(layers.Dense(input_dim=9, units=10, activation='relu'))\n",
    "model.add(layers.Dense(input_dim=10, units=10, activation='relu'))\n",
    "model.add(layers.Dense(input_dim=10, units=10, activation='relu'))\n",
    "model.add(layers.Dense(input_dim=10, units=10, activation='relu'))\n",
    "model.add(layers.Dense(input_dim=10, units=10, activation='relu'))\n",
    "model.add(layers.Dense(input_dim=10, units=1, activation='relu'))\n",
    "\n",
    "model.compile(loss='binary_crossentropy', optimizer='rmsprop', metrics=['accuracy'])\n",
    "\n",
    "model.fit(x_train, y_train, epochs=epochs, batch_size=batch_size)\n",
    "\n",
    "accuracy_train = model.evaluate(x_train, y_train, batch_size=batch_size)[1]\n",
    "accuracy_test = model.evaluate(x_test, y_test, batch_size=batch_size)[1]\n",
    "print('Training accuracy: %s' % accuracy_train)\n",
    "print('Testing accuracy: %s' % accuracy_test)"
   ]
  },
  {
   "cell_type": "markdown",
   "metadata": {},
   "source": [
    "# Discussion\n",
    "- ### How did I preprocess the dataset\n",
    "    - This is mentioned above\n",
    "- ### Which classifier reached the highest classification accuracy in this dataset?\n",
    "    Basically, as the result shown above, the SVM with sigmoid kernel and default penalty (which is 1) reached the highest accuracy\n",
    "    - ##### Why?\n",
    "    - ##### Can this result remain if the dataset is different?\n",
    "        According to what I had learned and what I searched, the sigmoid function, or called logistic function, is a special function that is able to deal with nonlinear data. Furthermore, there are actually some researches and papers studying on the effect it may bring. Here, it happens to fit better than any other kernel; I think it's more coincidence on this dataset than functionality on real-world problem for the reason that the variability of the stock price is quite unpredictable as everyone knows.\n",
    "- ### How did I improve my classification?\n",
    "    Simply, I searched for the official document and figured out how the algorithms work and what else are able to be altered, and tried training or learning with different parameters or other stuff, like kernels or training times, batch sizes.\n",
    "    Moreover, what I have learned about NN model is that, the number of layers or the units in each layer did affect the result but not necessarily improve or decrease the accuracy. It's different from what I thought - the more complex the NN model is, the more accurate it is going to be."
   ]
  },
  {
   "cell_type": "code",
   "execution_count": null,
   "metadata": {},
   "outputs": [],
   "source": []
  }
 ],
 "metadata": {
  "kernelspec": {
   "display_name": "Python 3",
   "language": "python",
   "name": "python3"
  },
  "language_info": {
   "codemirror_mode": {
    "name": "ipython",
    "version": 3
   },
   "file_extension": ".py",
   "mimetype": "text/x-python",
   "name": "python",
   "nbconvert_exporter": "python",
   "pygments_lexer": "ipython3",
   "version": "3.6.8"
  }
 },
 "nbformat": 4,
 "nbformat_minor": 2
}
